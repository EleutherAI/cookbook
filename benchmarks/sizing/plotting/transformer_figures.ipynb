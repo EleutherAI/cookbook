{
 "cells": [
  {
   "cell_type": "markdown",
   "metadata": {},
   "source": [
    "# Figures of Transformer Components"
   ]
  },
  {
   "cell_type": "code",
   "execution_count": null,
   "id": "7f9547c2",
   "metadata": {},
   "outputs": [],
   "source": [
    "import numpy as np\n",
    "import pandas as pd\n",
    "from convert_to_csv import to_pandas"
   ]
  },
  {
   "cell_type": "code",
   "execution_count": 97,
   "id": "ffde8279",
   "metadata": {},
   "outputs": [],
   "source": [
    "df = to_pandas('../results/mm.out')\n",
    "df"
   ]
  }
 ],
 "metadata": {
  "kernelspec": {
   "display_name": "Python 3 (ipykernel)",
   "language": "python",
   "name": "python3"
  },
  "language_info": {
   "codemirror_mode": {
    "name": "ipython",
    "version": 3
   },
   "file_extension": ".py",
   "mimetype": "text/x-python",
   "name": "python",
   "nbconvert_exporter": "python",
   "pygments_lexer": "ipython3",
   "version": "3.9.18"
  }
 },
 "nbformat": 4,
 "nbformat_minor": 5
}
